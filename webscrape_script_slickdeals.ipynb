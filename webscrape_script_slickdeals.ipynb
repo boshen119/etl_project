{
 "cells": [
  {
   "cell_type": "code",
   "execution_count": 1,
   "metadata": {},
   "outputs": [],
   "source": [
    "# Dependencies\n",
    "from bs4 import BeautifulSoup as bs\n",
    "import requests\n",
    "from splinter import Browser\n",
    "import pandas as pd\n",
    "import csv"
   ]
  },
  {
   "cell_type": "code",
   "execution_count": null,
   "metadata": {},
   "outputs": [],
   "source": [
    "# Try scraping with BeautifulSoup only, not Splinter\n",
    "# executable_path = {'executable_path': '/Users/Bons/Downloads/chromedriver'}\n",
    "# browser = Browser('chrome', **executable_path, headless=False)"
   ]
  },
  {
   "cell_type": "code",
   "execution_count": null,
   "metadata": {},
   "outputs": [],
   "source": [
    "# List of pages to be looped through\n",
    "url_list = []\n",
    "\n",
    "# URL of page to be scraped\n",
    "for i in range(1,50):\n",
    "    url = 'https://slickdeals.net/?page=' + str(i)\n",
    "    url_list.append(url)\n",
    "#     print(url_list)"
   ]
  },
  {
   "cell_type": "code",
   "execution_count": null,
   "metadata": {},
   "outputs": [],
   "source": [
    "sale_items = []\n",
    "\n",
    "# Trying to loop through pages 1-50 of Slickdeals.net\n",
    "for url in url_list:\n",
    "    \n",
    "    response = requests.get(url)\n",
    "    soup = bs(response.text, 'html.parser')\n",
    "    \n",
    "    results = soup.find_all('div')\n",
    "    \n",
    "    #Create a dataframe to hold\n",
    "    \n",
    "    for result in results:\n",
    "    # Error handling\n",
    "        try:\n",
    "            # Identify and return title of listing\n",
    "            title = result.find('div', class_=\"priceLine\")\n",
    "            # Identify and return original price of listing\n",
    "            old_price = result.find('span', class_=\"oldListPrice\")\n",
    "#             old_price = old_price.text\n",
    "            # Identify and return new price of listing\n",
    "            new_price = result.find('div', class_=\"itemPrice\")\n",
    "#             new_price = new_price.text.strip()\n",
    "            # Print results only if title,a price, and link are available\n",
    "            if (title and old_price and new_price):\n",
    "                print('-------------')\n",
    "                print(\"Title\")\n",
    "                print(title[\"title\"])\n",
    "                print(\"Old Price\")\n",
    "                print(old_price.text)\n",
    "                print(\"New Price\")\n",
    "                print(new_price.text.strip())\n",
    "                sale_items.append({\"Item\" : title[\"title\"], \"Old Price\" : old_price.text, \"Sale Price\": new_price.text.strip()})\n",
    "        except AttributeError as e:\n",
    "            print(e)\n",
    "            \n",
    "#     browser.click_link_by_partial_text('Next')"
   ]
  },
  {
   "cell_type": "code",
   "execution_count": null,
   "metadata": {},
   "outputs": [],
   "source": [
    "sale_items_df = pd.DataFrame(sale_items)\n",
    "sale_items_df"
   ]
  },
  {
   "cell_type": "code",
   "execution_count": null,
   "metadata": {},
   "outputs": [],
   "source": [
    "sale_items_df.append({\"Store\" : \"Slickdeals.net\"})"
   ]
  },
  {
   "cell_type": "code",
   "execution_count": null,
   "metadata": {},
   "outputs": [],
   "source": [
    "sale_items_df.to_csv(\"slickdeals.csv\", index=True)"
   ]
  }
 ],
 "metadata": {
  "kernelspec": {
   "display_name": "Python 3",
   "language": "python",
   "name": "python3"
  },
  "language_info": {
   "codemirror_mode": {
    "name": "ipython",
    "version": 3
   },
   "file_extension": ".py",
   "mimetype": "text/x-python",
   "name": "python",
   "nbconvert_exporter": "python",
   "pygments_lexer": "ipython3",
   "version": "3.7.4"
  }
 },
 "nbformat": 4,
 "nbformat_minor": 2
}
