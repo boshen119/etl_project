{
 "cells": [
  {
   "cell_type": "code",
   "execution_count": 1,
   "metadata": {},
   "outputs": [],
   "source": [
    "import os\n",
    "import pandas as pd\n",
    "import csv"
   ]
  },
  {
   "cell_type": "code",
   "execution_count": 2,
   "metadata": {},
   "outputs": [
    {
     "name": "stdout",
     "output_type": "stream",
     "text": [
      "      Unnamed: 0                                               Item Old Price  \\\n",
      "0              0  Samsung Fast Adaptive Charger Original 2 Pack ...    $49.99   \n",
      "1              1  Samsung Fast Adaptive Charger Original 2 Pack ...    $49.99   \n",
      "2              2  Samsung Fast Adaptive Charger Original 2 Pack ...    $49.99   \n",
      "3              3  Samsung Fast Adaptive Charger Original 2 Pack ...    $49.99   \n",
      "4              4  Samsung Fast Adaptive Charger Original 2 Pack ...    $49.99   \n",
      "...          ...                                                ...       ...   \n",
      "1346        1346              14K Gold 30mm Thick High Polish Hoops    $84.79   \n",
      "1347        1347  New Genie 13\" Acrylic Hookah Combo Set from Pr...       $34   \n",
      "1348        1348  New Genie 13\" Acrylic Hookah Combo Set from Pr...       $34   \n",
      "1349        1349              Professor Morty Rolling Set (3-Piece)    $79.99   \n",
      "1350        1350              Professor Morty Rolling Set (3-Piece)    $79.99   \n",
      "\n",
      "     Sale Price  \n",
      "0        $12.99  \n",
      "1        $12.99  \n",
      "2        $12.99  \n",
      "3        $12.99  \n",
      "4        $12.99  \n",
      "...         ...  \n",
      "1346     $39.99  \n",
      "1347     $14.99  \n",
      "1348     $14.99  \n",
      "1349     $17.99  \n",
      "1350     $17.99  \n",
      "\n",
      "[1351 rows x 4 columns]\n"
     ]
    }
   ],
   "source": [
    "# Load scraped data csv to Python\n",
    "master_gr_df = pd.read_csv(\"groupon.csv\")\n",
    "print(master_gr_df)"
   ]
  },
  {
   "cell_type": "code",
   "execution_count": 3,
   "metadata": {},
   "outputs": [],
   "source": [
    "# Make a copy of dataframe\n",
    "gr_items_df = master_gr_df"
   ]
  },
  {
   "cell_type": "code",
   "execution_count": 4,
   "metadata": {},
   "outputs": [
    {
     "data": {
      "text/html": [
       "<div>\n",
       "<style scoped>\n",
       "    .dataframe tbody tr th:only-of-type {\n",
       "        vertical-align: middle;\n",
       "    }\n",
       "\n",
       "    .dataframe tbody tr th {\n",
       "        vertical-align: top;\n",
       "    }\n",
       "\n",
       "    .dataframe thead th {\n",
       "        text-align: right;\n",
       "    }\n",
       "</style>\n",
       "<table border=\"1\" class=\"dataframe\">\n",
       "  <thead>\n",
       "    <tr style=\"text-align: right;\">\n",
       "      <th></th>\n",
       "      <th>Unnamed: 0</th>\n",
       "      <th>Item</th>\n",
       "      <th>Old Price</th>\n",
       "      <th>Sale Price</th>\n",
       "      <th>Store</th>\n",
       "    </tr>\n",
       "  </thead>\n",
       "  <tbody>\n",
       "    <tr>\n",
       "      <td>0</td>\n",
       "      <td>0</td>\n",
       "      <td>Samsung Fast Adaptive Charger Original 2 Pack ...</td>\n",
       "      <td>$49.99</td>\n",
       "      <td>$12.99</td>\n",
       "      <td>groupon.com</td>\n",
       "    </tr>\n",
       "    <tr>\n",
       "      <td>1</td>\n",
       "      <td>1</td>\n",
       "      <td>Samsung Fast Adaptive Charger Original 2 Pack ...</td>\n",
       "      <td>$49.99</td>\n",
       "      <td>$12.99</td>\n",
       "      <td>groupon.com</td>\n",
       "    </tr>\n",
       "    <tr>\n",
       "      <td>2</td>\n",
       "      <td>2</td>\n",
       "      <td>Samsung Fast Adaptive Charger Original 2 Pack ...</td>\n",
       "      <td>$49.99</td>\n",
       "      <td>$12.99</td>\n",
       "      <td>groupon.com</td>\n",
       "    </tr>\n",
       "    <tr>\n",
       "      <td>3</td>\n",
       "      <td>3</td>\n",
       "      <td>Samsung Fast Adaptive Charger Original 2 Pack ...</td>\n",
       "      <td>$49.99</td>\n",
       "      <td>$12.99</td>\n",
       "      <td>groupon.com</td>\n",
       "    </tr>\n",
       "    <tr>\n",
       "      <td>4</td>\n",
       "      <td>4</td>\n",
       "      <td>Samsung Fast Adaptive Charger Original 2 Pack ...</td>\n",
       "      <td>$49.99</td>\n",
       "      <td>$12.99</td>\n",
       "      <td>groupon.com</td>\n",
       "    </tr>\n",
       "  </tbody>\n",
       "</table>\n",
       "</div>"
      ],
      "text/plain": [
       "   Unnamed: 0                                               Item Old Price  \\\n",
       "0           0  Samsung Fast Adaptive Charger Original 2 Pack ...    $49.99   \n",
       "1           1  Samsung Fast Adaptive Charger Original 2 Pack ...    $49.99   \n",
       "2           2  Samsung Fast Adaptive Charger Original 2 Pack ...    $49.99   \n",
       "3           3  Samsung Fast Adaptive Charger Original 2 Pack ...    $49.99   \n",
       "4           4  Samsung Fast Adaptive Charger Original 2 Pack ...    $49.99   \n",
       "\n",
       "  Sale Price        Store  \n",
       "0     $12.99  groupon.com  \n",
       "1     $12.99  groupon.com  \n",
       "2     $12.99  groupon.com  \n",
       "3     $12.99  groupon.com  \n",
       "4     $12.99  groupon.com  "
      ]
     },
     "execution_count": 4,
     "metadata": {},
     "output_type": "execute_result"
    }
   ],
   "source": [
    "# Adding website to dataframe\n",
    "gr_items_df[\"Store\"] = \"groupon.com\"\n",
    "gr_items_df.head()"
   ]
  },
  {
   "cell_type": "code",
   "execution_count": 10,
   "metadata": {},
   "outputs": [],
   "source": [
    "# Remove extra index column\n",
    "gr_items_df = gr_items_df.drop(['Unnamed: 0'], axis=1)"
   ]
  },
  {
   "cell_type": "code",
   "execution_count": 12,
   "metadata": {},
   "outputs": [],
   "source": [
    "gr_items_df.to_csv(\"1groupon_master.csv\")"
   ]
  },
  {
   "cell_type": "code",
   "execution_count": null,
   "metadata": {},
   "outputs": [],
   "source": []
  }
 ],
 "metadata": {
  "kernelspec": {
   "display_name": "Python 3",
   "language": "python",
   "name": "python3"
  },
  "language_info": {
   "codemirror_mode": {
    "name": "ipython",
    "version": 3
   },
   "file_extension": ".py",
   "mimetype": "text/x-python",
   "name": "python",
   "nbconvert_exporter": "python",
   "pygments_lexer": "ipython3",
   "version": "3.7.4"
  }
 },
 "nbformat": 4,
 "nbformat_minor": 2
}
